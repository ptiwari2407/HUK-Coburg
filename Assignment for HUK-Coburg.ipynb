{
 "cells": [
  {
   "cell_type": "markdown",
   "id": "1019e00a",
   "metadata": {},
   "source": [
    "## Import the necessary libraries"
   ]
  },
  {
   "cell_type": "code",
   "execution_count": 1,
   "id": "5cc8aefa",
   "metadata": {},
   "outputs": [],
   "source": [
    "import pandas as pd\n",
    "import tqdm\n",
    "import pandas as pd\n",
    "import numpy as np\n",
    "import matplotlib.pyplot as plt\n",
    "import warnings\n",
    "import re\n",
    "from langdetect import detect"
   ]
  },
  {
   "cell_type": "code",
   "execution_count": 2,
   "id": "cc9241a8",
   "metadata": {},
   "outputs": [],
   "source": [
    "pd.set_option('display.max_rows', 100)\n",
    "pd.set_option('display.max_columns', 20)\n",
    "pd.set_option('display.width', 1000)"
   ]
  },
  {
   "cell_type": "code",
   "execution_count": 3,
   "id": "895c21e5",
   "metadata": {},
   "outputs": [],
   "source": [
    "def keep_alpha_num(x):\n",
    "    s = re.sub(r'[.,\"\\'-_?:!#;]', '', x)\n",
    "    s = re.sub(r\"[\\([{})\\]]\", \"\", s)\n",
    "    s = ' '.join(s.split())\n",
    "    return s"
   ]
  },
  {
   "cell_type": "markdown",
   "id": "dcc92e68",
   "metadata": {},
   "source": [
    "## Start the Data Ingestion Stage"
   ]
  },
  {
   "cell_type": "code",
   "execution_count": 4,
   "id": "a3908942",
   "metadata": {},
   "outputs": [],
   "source": [
    "file_path = 'data/Coding_Challenge_NLP/training.csv'\n",
    "\n",
    "df = pd.read_csv(file_path, header=0, names=['Source_Id', 'Source', 'Sentiment', 'Feedback'])"
   ]
  },
  {
   "cell_type": "markdown",
   "id": "77f8d955",
   "metadata": {},
   "source": [
    "## Data Exploration and Preprocessing Stage\n",
    "\n",
    "This exploratory phase is the stage where you are graphing things, testing things on small sets of the data, summarizing simple statistics, and getting rough ideas of what hypotheses you might want to pursue further."
   ]
  },
  {
   "cell_type": "code",
   "execution_count": 5,
   "id": "4717784d",
   "metadata": {},
   "outputs": [
    {
     "data": {
      "text/plain": [
       "Sentiment\n",
       "Negative      22542\n",
       "Positive      20831\n",
       "Neutral       18318\n",
       "Irrelevant    12990\n",
       "Name: count, dtype: int64"
      ]
     },
     "execution_count": 5,
     "metadata": {},
     "output_type": "execute_result"
    }
   ],
   "source": [
    "df.Sentiment.value_counts()"
   ]
  },
  {
   "cell_type": "markdown",
   "id": "49f899e5",
   "metadata": {},
   "source": [
    "1. The dependent variable seem to be well - distributed, so there is no need for any Imbalance adjustment.\n",
    "2. Let us also look for possible na values, if we should in anyway deal with them.\n"
   ]
  },
  {
   "cell_type": "code",
   "execution_count": 6,
   "id": "253559f9",
   "metadata": {},
   "outputs": [
    {
     "name": "stdout",
     "output_type": "stream",
     "text": [
      "<class 'pandas.core.frame.DataFrame'>\n",
      "RangeIndex: 74681 entries, 0 to 74680\n",
      "Data columns (total 4 columns):\n",
      " #   Column     Non-Null Count  Dtype \n",
      "---  ------     --------------  ----- \n",
      " 0   Source_Id  74681 non-null  int64 \n",
      " 1   Source     74681 non-null  object\n",
      " 2   Sentiment  74681 non-null  object\n",
      " 3   Feedback   73995 non-null  object\n",
      "dtypes: int64(1), object(3)\n",
      "memory usage: 2.3+ MB\n"
     ]
    }
   ],
   "source": [
    "df.info()"
   ]
  },
  {
   "cell_type": "code",
   "execution_count": 7,
   "id": "f9da3319",
   "metadata": {
    "scrolled": true
   },
   "outputs": [],
   "source": [
    "df.isna().sum()\n",
    "df.dropna(inplace=True)"
   ]
  },
  {
   "cell_type": "code",
   "execution_count": 8,
   "id": "c9374823",
   "metadata": {},
   "outputs": [
    {
     "name": "stdout",
     "output_type": "stream",
     "text": [
      " . . [  \n"
     ]
    }
   ],
   "source": [
    "print(df['Feedback'][59])"
   ]
  },
  {
   "cell_type": "markdown",
   "id": "0bce0e93",
   "metadata": {},
   "source": [
    "1. WE have feedback like the one presented above that do not contain any string character that makes sense to language models that we shall be using for training Purposes. Although they are not empty, they have no relevance and should be removed before feeding to the model for training.\n",
    "\n",
    "2. Also, we should first remove all the non-numeric and non-alphabetic characters.\n",
    "\n",
    "3. Remove Duplicates, possibly also very similar sentences\n",
    "\n",
    "4. We shall also look if all the feedback belongs to the same language or different ones"
   ]
  },
  {
   "cell_type": "code",
   "execution_count": 9,
   "id": "b3713b11",
   "metadata": {},
   "outputs": [],
   "source": [
    "df['clean_feedback'] = df['Feedback'].apply(lambda x: keep_alpha_num(x))\n",
    "df['len_feedback'] = df['clean_feedback'].apply(lambda x: len(str(x)))\n",
    "df = df[df['len_feedback']>10]\n",
    "df.drop_duplicates(subset=['clean_feedback'], inplace=True)\n",
    "df.reset_index(drop=True, inplace=True)"
   ]
  },
  {
   "cell_type": "code",
   "execution_count": 10,
   "id": "7705229b",
   "metadata": {},
   "outputs": [
    {
     "name": "stdout",
     "output_type": "stream",
     "text": [
      "lang\n",
      "en    60842\n",
      "nl      355\n",
      "af      337\n",
      "da      263\n",
      "no      249\n",
      "fr      219\n",
      "cy      208\n",
      "so      185\n",
      "it      176\n",
      "sv      165\n",
      "et      149\n",
      "ca      136\n",
      "tl      120\n",
      "es       99\n",
      "ro       83\n",
      "id       72\n",
      "de       63\n",
      "pt       46\n",
      "fi       44\n",
      "pl       41\n",
      "sk       34\n",
      "hu       30\n",
      "sw       25\n",
      "sq       23\n",
      "tr       23\n",
      "sl       23\n",
      "hr       16\n",
      "cs       16\n",
      "ru       13\n",
      "lt        8\n",
      "lv        6\n",
      "bg        5\n",
      "vi        3\n",
      "mk        2\n",
      "th        2\n",
      "Name: count, dtype: int64\n"
     ]
    }
   ],
   "source": [
    "import multiprocessing as mp\n",
    "pool = mp.Pool(mp.cpu_count())\n",
    "x= df['clean_feedback'].tolist()\n",
    "results = pool.map(detect, x)\n",
    "pool.close()\n",
    "df['lang'] = results\n",
    "print(df['lang'].value_counts())"
   ]
  },
  {
   "cell_type": "markdown",
   "id": "53fcb0a1",
   "metadata": {},
   "source": [
    "### Here we see that there are other languages also present in the dataset other than English, so we must account for them as well, while Training the model"
   ]
  },
  {
   "cell_type": "code",
   "execution_count": null,
   "id": "0d1e16dd",
   "metadata": {},
   "outputs": [],
   "source": []
  },
  {
   "cell_type": "code",
   "execution_count": 9,
   "id": "ece92c49",
   "metadata": {},
   "outputs": [],
   "source": []
  },
  {
   "cell_type": "markdown",
   "id": "9fd5abc7",
   "metadata": {},
   "source": [
    "## Model Training Phase\n",
    "\n",
    "\n"
   ]
  },
  {
   "cell_type": "code",
   "execution_count": null,
   "id": "6d1b19b8",
   "metadata": {},
   "outputs": [],
   "source": []
  },
  {
   "cell_type": "code",
   "execution_count": null,
   "id": "99729135",
   "metadata": {},
   "outputs": [],
   "source": []
  },
  {
   "cell_type": "code",
   "execution_count": null,
   "id": "bd119825",
   "metadata": {},
   "outputs": [],
   "source": []
  },
  {
   "cell_type": "code",
   "execution_count": null,
   "id": "d4b189fe",
   "metadata": {},
   "outputs": [],
   "source": []
  },
  {
   "cell_type": "code",
   "execution_count": null,
   "id": "4e66fc3d",
   "metadata": {},
   "outputs": [],
   "source": []
  },
  {
   "cell_type": "code",
   "execution_count": null,
   "id": "9378ffa8",
   "metadata": {},
   "outputs": [],
   "source": []
  },
  {
   "cell_type": "code",
   "execution_count": null,
   "id": "94476be7",
   "metadata": {},
   "outputs": [],
   "source": []
  },
  {
   "cell_type": "code",
   "execution_count": 13,
   "id": "ef6f0361",
   "metadata": {},
   "outputs": [],
   "source": [
    "file_path = 'data/Coding_Challenge_NLP/validation.csv'\n",
    "\n",
    "df = pd.read_csv(file_path, header=0, names=['Source_Id', 'Source', 'Sentiment', 'Feedback'])"
   ]
  },
  {
   "cell_type": "code",
   "execution_count": null,
   "id": "b598e938",
   "metadata": {},
   "outputs": [],
   "source": []
  }
 ],
 "metadata": {
  "kernelspec": {
   "display_name": "process_mining",
   "language": "python",
   "name": "process_mining"
  },
  "language_info": {
   "codemirror_mode": {
    "name": "ipython",
    "version": 3
   },
   "file_extension": ".py",
   "mimetype": "text/x-python",
   "name": "python",
   "nbconvert_exporter": "python",
   "pygments_lexer": "ipython3",
   "version": "3.10.6"
  }
 },
 "nbformat": 4,
 "nbformat_minor": 5
}
